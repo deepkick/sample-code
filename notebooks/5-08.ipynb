{
 "cells": [
  {
   "cell_type": "markdown",
   "metadata": {},
   "source": [
    "## 第5章 Matplotlibを使いこなそう\n",
    "\n",
    "### 5-8: 描画スタイル"
   ]
  },
  {
   "cell_type": "code",
   "execution_count": 1,
   "metadata": {},
   "outputs": [
    {
     "data": {
      "text/plain": [
       "['seaborn-notebook',\n",
       " 'seaborn',\n",
       " 'fivethirtyeight',\n",
       " 'seaborn-colorblind',\n",
       " 'seaborn-ticks',\n",
       " 'ggplot',\n",
       " 'seaborn-whitegrid',\n",
       " '_classic_test',\n",
       " 'seaborn-paper',\n",
       " 'seaborn-deep',\n",
       " 'seaborn-dark',\n",
       " 'seaborn-white',\n",
       " 'bmh',\n",
       " 'classic',\n",
       " 'seaborn-muted',\n",
       " 'seaborn-darkgrid',\n",
       " 'seaborn-talk',\n",
       " 'seaborn-poster',\n",
       " 'dark_background',\n",
       " 'seaborn-pastel',\n",
       " 'seaborn-bright',\n",
       " 'grayscale',\n",
       " 'seaborn-dark-palette']"
      ]
     },
     "execution_count": 1,
     "metadata": {},
     "output_type": "execute_result"
    }
   ],
   "source": [
    "# リスト5.8.1：style一覧を出力する\n",
    "import matplotlib.pyplot as plt\n",
    "\n",
    "plt.style.available"
   ]
  },
  {
   "cell_type": "code",
   "execution_count": 2,
   "metadata": {},
   "outputs": [
    {
     "data": {
      "image/png": "[encoded data removed]",
      "text/plain": [
       "<matplotlib.figure.Figure at 0x7f3d15994b70>"
      ]
     },
     "metadata": {},
     "output_type": "display_data"
    }
   ],
   "source": [
    "# リスト5.8.2：fivethirtyeightスタイルで描画\n",
    "plt.style.use(\"fivethirtyeight\")\n",
    "fig = plt.figure()\n",
    "ax = fig.add_subplot(111)\n",
    "dat = [1, 3]\n",
    "ax.plot(dat)\n",
    "plt.show()"
   ]
  },
  {
   "cell_type": "code",
   "execution_count": null,
   "metadata": {},
   "outputs": [],
   "source": []
  }
 ],
 "metadata": {
  "kernelspec": {
   "display_name": "Python 3",
   "language": "python",
   "name": "python3"
  },
  "language_info": {
   "codemirror_mode": {
    "name": "ipython",
    "version": 3
   },
   "file_extension": ".py",
   "mimetype": "text/x-python",
   "name": "python",
   "nbconvert_exporter": "python",
   "pygments_lexer": "ipython3",
   "version": "3.6.2"
  }
 },
 "nbformat": 4,
 "nbformat_minor": 2
}
