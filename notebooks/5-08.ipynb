{
 "cells": [
  {
   "cell_type": "code",
   "execution_count": 1,
   "metadata": {},
   "outputs": [
    {
     "data": {
      "text/plain": [
       "['seaborn-notebook',\n",
       " 'seaborn-poster',\n",
       " 'grayscale',\n",
       " 'seaborn-muted',\n",
       " 'dark_background',\n",
       " 'seaborn-dark-palette',\n",
       " 'seaborn-whitegrid',\n",
       " 'fivethirtyeight',\n",
       " 'seaborn-colorblind',\n",
       " 'classic',\n",
       " 'seaborn-paper',\n",
       " 'seaborn-deep',\n",
       " '_classic_test',\n",
       " 'seaborn-dark',\n",
       " 'seaborn-ticks',\n",
       " 'seaborn-bright',\n",
       " 'seaborn-pastel',\n",
       " 'ggplot',\n",
       " 'seaborn-white',\n",
       " 'seaborn',\n",
       " 'seaborn-talk',\n",
       " 'bmh',\n",
       " 'seaborn-darkgrid']"
      ]
     },
     "execution_count": 1,
     "metadata": {},
     "output_type": "execute_result"
    }
   ],
   "source": [
    "# リスト5.8.1：style一覧を出力する\n",
    "import matplotlib.pyplot as plt\n",
    "plt.style.available"
   ]
  },
  {
   "cell_type": "code",
   "execution_count": 2,
   "metadata": {},
   "outputs": [
    {
     "data": {
      "image/png": "[encoded data removed]",
      "text/plain": [
       "<matplotlib.figure.Figure at 0x7f09e1b95518>"
      ]
     },
     "metadata": {},
     "output_type": "display_data"
    }
   ],
   "source": [
    "# リスト5.8.2：fivethirtyeightスタイルで描画\n",
    "plt.style.use('fivethirtyeight')\n",
    "fig = plt.figure()\n",
    "ax = fig.add_subplot(111)\n",
    "dat = [1, 3]\n",
    "ax.plot(dat)\n",
    "plt.show()"
   ]
  },
  {
   "cell_type": "code",
   "execution_count": null,
   "metadata": {
    "collapsed": true
   },
   "outputs": [],
   "source": []
  }
 ],
 "metadata": {
  "kernelspec": {
   "display_name": "Python 3",
   "language": "python",
   "name": "python3"
  },
  "language_info": {
   "codemirror_mode": {
    "name": "ipython",
    "version": 3
   },
   "file_extension": ".py",
   "mimetype": "text/x-python",
   "name": "python",
   "nbconvert_exporter": "python",
   "pygments_lexer": "ipython3",
   "version": "3.6.2"
  }
 },
 "nbformat": 4,
 "nbformat_minor": 2
}
