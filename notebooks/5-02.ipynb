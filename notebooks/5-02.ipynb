{
 "cells": [
  {
   "cell_type": "markdown",
   "metadata": {},
   "source": [
    "## 第5章 Matplotlibを使いこなそう\n",
    "\n",
    "### 5-2: フィギュアオブジェクトとサブプロットの調整"
   ]
  },
  {
   "cell_type": "code",
   "execution_count": 1,
   "metadata": {},
   "outputs": [
    {
     "data": {
      "text/plain": [
       "<matplotlib.figure.Figure at 0x7f8f54366e10>"
      ]
     },
     "metadata": {},
     "output_type": "display_data"
    }
   ],
   "source": [
    "# リスト5.2.1：フィギュアオブジェクトの引数設定\n",
    "import matplotlib.pyplot as plt\n",
    "\n",
    "fig = plt.figure(\n",
    "    figsize=(3, 3),  # サイズ\n",
    "    dpi=100,  # 解像度\n",
    "    facecolor=\"grey\",  # 背景色\n",
    "    edgecolor=\"k\",  # 枠線の色\n",
    "    linewidth=10,  # 枠線の太さ\n",
    "    frameon=True,  # 枠線を表示する\n",
    "    tight_layout=False,\n",
    ")\n",
    "ax1 = fig.add_subplot(111)\n",
    "plt.show()"
   ]
  },
  {
   "cell_type": "code",
   "execution_count": 2,
   "metadata": {},
   "outputs": [
    {
     "data": {
      "image/png": "[encoded data removed]",
      "text/plain": [
       "<matplotlib.figure.Figure at 0x7f8f54342d30>"
      ]
     },
     "metadata": {
      "needs_background": "light"
     },
     "output_type": "display_data"
    }
   ],
   "source": [
    "# リスト5.2.2：サブプロットの引数設定\n",
    "fig = plt.figure(figsize=(3, 3))\n",
    "# サブプロットの書式設定\n",
    "ax = fig.add_subplot(\n",
    "    111, facecolor=\"lightblue\", xlim=[0, 15], ylim=[1, 10000], yscale=\"log\"\n",
    ")\n",
    "ax.plot([1, 5, 10], [10, 100, 1000])\n",
    "plt.show()"
   ]
  },
  {
   "cell_type": "code",
   "execution_count": 3,
   "metadata": {},
   "outputs": [
    {
     "data": {
      "image/png": "[encoded data removed]",
      "text/plain": [
       "<matplotlib.figure.Figure at 0x7f8f543b2a20>"
      ]
     },
     "metadata": {
      "needs_background": "light"
     },
     "output_type": "display_data"
    }
   ],
   "source": [
    "# リスト5.2.3：デフォルトの余白設定でサブプロットを描画\n",
    "fig = plt.figure(figsize=(3, 3))\n",
    "ax1 = fig.add_subplot(221)\n",
    "ax2 = fig.add_subplot(222)\n",
    "ax3 = fig.add_subplot(223)\n",
    "ax4 = fig.add_subplot(224)\n",
    "plt.show()"
   ]
  },
  {
   "cell_type": "code",
   "execution_count": 4,
   "metadata": {},
   "outputs": [
    {
     "data": {
      "image/png": "[encoded data removed]",
      "text/plain": [
       "<matplotlib.figure.Figure at 0x7f8f2d1596a0>"
      ]
     },
     "metadata": {
      "needs_background": "light"
     },
     "output_type": "display_data"
    }
   ],
   "source": [
    "# リスト5.2.4：サブプロット間の余白を調整して描画\n",
    "fig = plt.figure(figsize=(3, 3))\n",
    "ax1 = fig.add_subplot(221)\n",
    "ax2 = fig.add_subplot(222)\n",
    "ax3 = fig.add_subplot(223)\n",
    "ax4 = fig.add_subplot(224)\n",
    "# サブプロット間スペース調整\n",
    "fig.subplots_adjust(wspace=0.5, hspace=0.5)\n",
    "plt.show()"
   ]
  },
  {
   "cell_type": "code",
   "execution_count": 5,
   "metadata": {},
   "outputs": [
    {
     "data": {
      "image/png": "[encoded data removed]",
      "text/plain": [
       "<matplotlib.figure.Figure at 0x7f8f2d0757b8>"
      ]
     },
     "metadata": {
      "needs_background": "light"
     },
     "output_type": "display_data"
    }
   ],
   "source": [
    "# リスト5.2.5：サブプロットまわりの余白調整\n",
    "fig = plt.figure(figsize=(3, 3))\n",
    "ax1 = fig.add_subplot(221)\n",
    "ax2 = fig.add_subplot(222)\n",
    "ax3 = fig.add_subplot(223)\n",
    "ax4 = fig.add_subplot(224)\n",
    "# サブプロットまわりのスペース調整\n",
    "fig.subplots_adjust(left=0.2, right=0.8, bottom=0.2, top=0.8)\n",
    "plt.show()"
   ]
  },
  {
   "cell_type": "code",
   "execution_count": null,
   "metadata": {},
   "outputs": [],
   "source": []
  }
 ],
 "metadata": {
  "kernelspec": {
   "display_name": "Python 3",
   "language": "python",
   "name": "python3"
  },
  "language_info": {
   "codemirror_mode": {
    "name": "ipython",
    "version": 3
   },
   "file_extension": ".py",
   "mimetype": "text/x-python",
   "name": "python",
   "nbconvert_exporter": "python",
   "pygments_lexer": "ipython3",
   "version": "3.6.2"
  }
 },
 "nbformat": 4,
 "nbformat_minor": 2
}
